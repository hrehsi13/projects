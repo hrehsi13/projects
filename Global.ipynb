{
 "cells": [
  {
   "cell_type": "code",
   "execution_count": 122,
   "id": "3f034560",
   "metadata": {},
   "outputs": [],
   "source": [
    "import pandas as pd\n",
    "import matplotlib.pyplot as plt\n",
    "import pickle\n",
    "%matplotlib inline\n",
    "import warnings\n",
    "warnings.filterwarnings('ignore')\n",
    "import seaborn as sns\n",
    "import numpy as np\n",
    "from sklearn.feature_selection import SelectKBest , f_classif\n",
    "from sklearn.preprocessing import StandardScaler\n",
    "from sklearn.linear_model import LogisticRegression\n",
    "from sklearn.preprocessing import power_transform\n",
    "from sklearn.model_selection import GridSearchCV\n",
    "from sklearn.metrics import classification_report\n",
    "from sklearn.model_selection import cross_val_score\n",
    "from sklearn.preprocessing import LabelEncoder\n",
    "from sklearn.model_selection import train_test_split\n",
    "from sklearn.neighbors import KNeighborsClassifier\n",
    "from sklearn.metrics import accuracy_score,confusion_matrix,roc_curve,roc_auc_score\n",
    "from sklearn.ensemble import RandomForestClassifier\n",
    "from sklearn.tree import DecisionTreeClassifier\n",
    "from sklearn.linear_model import LinearRegression\n",
    "from sklearn import metrics\n",
    "from sklearn.tree import DecisionTreeRegressor\n",
    "from sklearn.ensemble import RandomForestRegressor\n",
    "from sklearn.neighbors import KNeighborsRegressor"
   ]
  },
  {
   "cell_type": "code",
   "execution_count": 3,
   "id": "ba4a17f0",
   "metadata": {},
   "outputs": [
    {
     "data": {
      "text/html": [
       "<div>\n",
       "<style scoped>\n",
       "    .dataframe tbody tr th:only-of-type {\n",
       "        vertical-align: middle;\n",
       "    }\n",
       "\n",
       "    .dataframe tbody tr th {\n",
       "        vertical-align: top;\n",
       "    }\n",
       "\n",
       "    .dataframe thead th {\n",
       "        text-align: right;\n",
       "    }\n",
       "</style>\n",
       "<table border=\"1\" class=\"dataframe\">\n",
       "  <thead>\n",
       "    <tr style=\"text-align: right;\">\n",
       "      <th></th>\n",
       "      <th>country</th>\n",
       "      <th>country_long</th>\n",
       "      <th>name</th>\n",
       "      <th>gppd_idnr</th>\n",
       "      <th>capacity_mw</th>\n",
       "      <th>latitude</th>\n",
       "      <th>longitude</th>\n",
       "      <th>primary_fuel</th>\n",
       "      <th>other_fuel1</th>\n",
       "      <th>other_fuel2</th>\n",
       "      <th>...</th>\n",
       "      <th>year_of_capacity_data</th>\n",
       "      <th>generation_gwh_2013</th>\n",
       "      <th>generation_gwh_2014</th>\n",
       "      <th>generation_gwh_2015</th>\n",
       "      <th>generation_gwh_2016</th>\n",
       "      <th>generation_gwh_2017</th>\n",
       "      <th>generation_gwh_2018</th>\n",
       "      <th>generation_gwh_2019</th>\n",
       "      <th>generation_data_source</th>\n",
       "      <th>estimated_generation_gwh</th>\n",
       "    </tr>\n",
       "  </thead>\n",
       "  <tbody>\n",
       "    <tr>\n",
       "      <th>0</th>\n",
       "      <td>IND</td>\n",
       "      <td>India</td>\n",
       "      <td>ACME Solar Tower</td>\n",
       "      <td>WRI1020239</td>\n",
       "      <td>2.5</td>\n",
       "      <td>28.1839</td>\n",
       "      <td>73.2407</td>\n",
       "      <td>Solar</td>\n",
       "      <td>NaN</td>\n",
       "      <td>NaN</td>\n",
       "      <td>...</td>\n",
       "      <td>NaN</td>\n",
       "      <td>NaN</td>\n",
       "      <td>NaN</td>\n",
       "      <td>NaN</td>\n",
       "      <td>NaN</td>\n",
       "      <td>NaN</td>\n",
       "      <td>NaN</td>\n",
       "      <td>NaN</td>\n",
       "      <td>NaN</td>\n",
       "      <td>NaN</td>\n",
       "    </tr>\n",
       "    <tr>\n",
       "      <th>1</th>\n",
       "      <td>IND</td>\n",
       "      <td>India</td>\n",
       "      <td>ADITYA CEMENT WORKS</td>\n",
       "      <td>WRI1019881</td>\n",
       "      <td>98.0</td>\n",
       "      <td>24.7663</td>\n",
       "      <td>74.6090</td>\n",
       "      <td>Coal</td>\n",
       "      <td>NaN</td>\n",
       "      <td>NaN</td>\n",
       "      <td>...</td>\n",
       "      <td>NaN</td>\n",
       "      <td>NaN</td>\n",
       "      <td>NaN</td>\n",
       "      <td>NaN</td>\n",
       "      <td>NaN</td>\n",
       "      <td>NaN</td>\n",
       "      <td>NaN</td>\n",
       "      <td>NaN</td>\n",
       "      <td>NaN</td>\n",
       "      <td>NaN</td>\n",
       "    </tr>\n",
       "    <tr>\n",
       "      <th>2</th>\n",
       "      <td>IND</td>\n",
       "      <td>India</td>\n",
       "      <td>AES Saurashtra Windfarms</td>\n",
       "      <td>WRI1026669</td>\n",
       "      <td>39.2</td>\n",
       "      <td>21.9038</td>\n",
       "      <td>69.3732</td>\n",
       "      <td>Wind</td>\n",
       "      <td>NaN</td>\n",
       "      <td>NaN</td>\n",
       "      <td>...</td>\n",
       "      <td>NaN</td>\n",
       "      <td>NaN</td>\n",
       "      <td>NaN</td>\n",
       "      <td>NaN</td>\n",
       "      <td>NaN</td>\n",
       "      <td>NaN</td>\n",
       "      <td>NaN</td>\n",
       "      <td>NaN</td>\n",
       "      <td>NaN</td>\n",
       "      <td>NaN</td>\n",
       "    </tr>\n",
       "    <tr>\n",
       "      <th>3</th>\n",
       "      <td>IND</td>\n",
       "      <td>India</td>\n",
       "      <td>AGARTALA GT</td>\n",
       "      <td>IND0000001</td>\n",
       "      <td>135.0</td>\n",
       "      <td>23.8712</td>\n",
       "      <td>91.3602</td>\n",
       "      <td>Gas</td>\n",
       "      <td>NaN</td>\n",
       "      <td>NaN</td>\n",
       "      <td>...</td>\n",
       "      <td>2019.0</td>\n",
       "      <td>NaN</td>\n",
       "      <td>617.789264</td>\n",
       "      <td>843.747</td>\n",
       "      <td>886.004428</td>\n",
       "      <td>663.774500</td>\n",
       "      <td>626.239128</td>\n",
       "      <td>NaN</td>\n",
       "      <td>Central Electricity Authority</td>\n",
       "      <td>NaN</td>\n",
       "    </tr>\n",
       "    <tr>\n",
       "      <th>4</th>\n",
       "      <td>IND</td>\n",
       "      <td>India</td>\n",
       "      <td>AKALTARA TPP</td>\n",
       "      <td>IND0000002</td>\n",
       "      <td>1800.0</td>\n",
       "      <td>21.9603</td>\n",
       "      <td>82.4091</td>\n",
       "      <td>Coal</td>\n",
       "      <td>Oil</td>\n",
       "      <td>NaN</td>\n",
       "      <td>...</td>\n",
       "      <td>2019.0</td>\n",
       "      <td>NaN</td>\n",
       "      <td>3035.550000</td>\n",
       "      <td>5916.370</td>\n",
       "      <td>6243.000000</td>\n",
       "      <td>5385.579736</td>\n",
       "      <td>7279.000000</td>\n",
       "      <td>NaN</td>\n",
       "      <td>Central Electricity Authority</td>\n",
       "      <td>NaN</td>\n",
       "    </tr>\n",
       "  </tbody>\n",
       "</table>\n",
       "<p>5 rows × 27 columns</p>\n",
       "</div>"
      ],
      "text/plain": [
       "  country country_long                      name   gppd_idnr  capacity_mw  \\\n",
       "0     IND        India          ACME Solar Tower  WRI1020239          2.5   \n",
       "1     IND        India       ADITYA CEMENT WORKS  WRI1019881         98.0   \n",
       "2     IND        India  AES Saurashtra Windfarms  WRI1026669         39.2   \n",
       "3     IND        India               AGARTALA GT  IND0000001        135.0   \n",
       "4     IND        India              AKALTARA TPP  IND0000002       1800.0   \n",
       "\n",
       "   latitude  longitude primary_fuel other_fuel1 other_fuel2  ...  \\\n",
       "0   28.1839    73.2407        Solar         NaN         NaN  ...   \n",
       "1   24.7663    74.6090         Coal         NaN         NaN  ...   \n",
       "2   21.9038    69.3732         Wind         NaN         NaN  ...   \n",
       "3   23.8712    91.3602          Gas         NaN         NaN  ...   \n",
       "4   21.9603    82.4091         Coal         Oil         NaN  ...   \n",
       "\n",
       "   year_of_capacity_data  generation_gwh_2013 generation_gwh_2014  \\\n",
       "0                    NaN                  NaN                 NaN   \n",
       "1                    NaN                  NaN                 NaN   \n",
       "2                    NaN                  NaN                 NaN   \n",
       "3                 2019.0                  NaN          617.789264   \n",
       "4                 2019.0                  NaN         3035.550000   \n",
       "\n",
       "  generation_gwh_2015 generation_gwh_2016 generation_gwh_2017  \\\n",
       "0                 NaN                 NaN                 NaN   \n",
       "1                 NaN                 NaN                 NaN   \n",
       "2                 NaN                 NaN                 NaN   \n",
       "3             843.747          886.004428          663.774500   \n",
       "4            5916.370         6243.000000         5385.579736   \n",
       "\n",
       "   generation_gwh_2018  generation_gwh_2019         generation_data_source  \\\n",
       "0                  NaN                  NaN                            NaN   \n",
       "1                  NaN                  NaN                            NaN   \n",
       "2                  NaN                  NaN                            NaN   \n",
       "3           626.239128                  NaN  Central Electricity Authority   \n",
       "4          7279.000000                  NaN  Central Electricity Authority   \n",
       "\n",
       "   estimated_generation_gwh  \n",
       "0                       NaN  \n",
       "1                       NaN  \n",
       "2                       NaN  \n",
       "3                       NaN  \n",
       "4                       NaN  \n",
       "\n",
       "[5 rows x 27 columns]"
      ]
     },
     "execution_count": 3,
     "metadata": {},
     "output_type": "execute_result"
    }
   ],
   "source": [
    "data =pd.read_csv('plant.csv')\n",
    "data.head()"
   ]
  },
  {
   "cell_type": "code",
   "execution_count": 4,
   "id": "9ec6ec3a",
   "metadata": {},
   "outputs": [
    {
     "data": {
      "text/plain": [
       "(907, 27)"
      ]
     },
     "execution_count": 4,
     "metadata": {},
     "output_type": "execute_result"
    }
   ],
   "source": [
    "data.shape"
   ]
  },
  {
   "cell_type": "code",
   "execution_count": 5,
   "id": "891e24ab",
   "metadata": {},
   "outputs": [
    {
     "data": {
      "text/plain": [
       "country                       0\n",
       "country_long                  0\n",
       "name                          0\n",
       "gppd_idnr                     0\n",
       "capacity_mw                   0\n",
       "latitude                     46\n",
       "longitude                    46\n",
       "primary_fuel                  0\n",
       "other_fuel1                 709\n",
       "other_fuel2                 906\n",
       "other_fuel3                 907\n",
       "commissioning_year          380\n",
       "owner                       565\n",
       "source                        0\n",
       "url                           0\n",
       "geolocation_source           19\n",
       "wepp_id                     907\n",
       "year_of_capacity_data       388\n",
       "generation_gwh_2013         907\n",
       "generation_gwh_2014         509\n",
       "generation_gwh_2015         485\n",
       "generation_gwh_2016         473\n",
       "generation_gwh_2017         467\n",
       "generation_gwh_2018         459\n",
       "generation_gwh_2019         907\n",
       "generation_data_source      458\n",
       "estimated_generation_gwh    907\n",
       "dtype: int64"
      ]
     },
     "execution_count": 5,
     "metadata": {},
     "output_type": "execute_result"
    }
   ],
   "source": [
    "data.isnull().sum()"
   ]
  },
  {
   "cell_type": "code",
   "execution_count": 6,
   "id": "3887215a",
   "metadata": {},
   "outputs": [
    {
     "data": {
      "text/plain": [
       "19.0004    3\n",
       "24.1917    3\n",
       "24.8747    2\n",
       "13.2450    2\n",
       "11.5336    2\n",
       "          ..\n",
       "22.7554    1\n",
       "27.1598    1\n",
       "17.2970    1\n",
       "20.8772    1\n",
       "9.9344     1\n",
       "Name: latitude, Length: 836, dtype: int64"
      ]
     },
     "execution_count": 6,
     "metadata": {},
     "output_type": "execute_result"
    }
   ],
   "source": [
    "data['latitude'].value_counts()"
   ]
  },
  {
   "cell_type": "code",
   "execution_count": 7,
   "id": "05c0cc96",
   "metadata": {},
   "outputs": [
    {
     "data": {
      "text/plain": [
       "19.0004    3\n",
       "24.1917    3\n",
       "24.8747    2\n",
       "13.2450    2\n",
       "11.5336    2\n",
       "          ..\n",
       "22.7554    1\n",
       "27.1598    1\n",
       "17.2970    1\n",
       "20.8772    1\n",
       "9.9344     1\n",
       "Name: latitude, Length: 836, dtype: int64"
      ]
     },
     "execution_count": 7,
     "metadata": {},
     "output_type": "execute_result"
    }
   ],
   "source": [
    "data['latitude'].value_counts()"
   ]
  },
  {
   "cell_type": "code",
   "execution_count": 8,
   "id": "a397c724",
   "metadata": {},
   "outputs": [
    {
     "data": {
      "text/plain": [
       "Oil             195\n",
       "Gas               2\n",
       "Cogeneration      1\n",
       "Name: other_fuel1, dtype: int64"
      ]
     },
     "execution_count": 8,
     "metadata": {},
     "output_type": "execute_result"
    }
   ],
   "source": [
    "data['other_fuel1'].value_counts()"
   ]
  },
  {
   "cell_type": "code",
   "execution_count": 9,
   "id": "3856bfb7",
   "metadata": {},
   "outputs": [
    {
     "data": {
      "text/plain": [
       "Oil    1\n",
       "Name: other_fuel2, dtype: int64"
      ]
     },
     "execution_count": 9,
     "metadata": {},
     "output_type": "execute_result"
    }
   ],
   "source": [
    "data['other_fuel2'].value_counts()"
   ]
  },
  {
   "cell_type": "code",
   "execution_count": 10,
   "id": "b3548d5e",
   "metadata": {},
   "outputs": [
    {
     "data": {
      "text/plain": [
       "Series([], Name: other_fuel3, dtype: int64)"
      ]
     },
     "execution_count": 10,
     "metadata": {},
     "output_type": "execute_result"
    }
   ],
   "source": [
    "data['other_fuel3'].value_counts()"
   ]
  },
  {
   "cell_type": "code",
   "execution_count": 11,
   "id": "7bf2da3c",
   "metadata": {},
   "outputs": [
    {
     "data": {
      "text/plain": [
       "2015.0    28\n",
       "2013.0    25\n",
       "2012.0    23\n",
       "2016.0    19\n",
       "2010.0    18\n",
       "          ..\n",
       "1946.0     1\n",
       "1956.0     1\n",
       "1937.0     1\n",
       "1949.0     1\n",
       "1953.0     1\n",
       "Name: commissioning_year, Length: 73, dtype: int64"
      ]
     },
     "execution_count": 11,
     "metadata": {},
     "output_type": "execute_result"
    }
   ],
   "source": [
    "data['commissioning_year'].value_counts()"
   ]
  },
  {
   "cell_type": "code",
   "execution_count": 12,
   "id": "3372a1df",
   "metadata": {},
   "outputs": [
    {
     "data": {
      "text/plain": [
       "Acc Acc ltd                                                    4\n",
       "Sterling Agro Industries ltd.                                  4\n",
       "Jk Cement ltd                                                  4\n",
       "SWPPL                                                          3\n",
       "Jaypee Ltd jccl)                                               3\n",
       "                                                              ..\n",
       "Sunkon Energy Private Limited                                  1\n",
       "West Bengal Energy Development Corporation Limited (WBEDCL)    1\n",
       "Energy Infratech Private Limited                               1\n",
       "K. N. Ram                                                      1\n",
       "iEnergy Wind Farms                                             1\n",
       "Name: owner, Length: 280, dtype: int64"
      ]
     },
     "execution_count": 12,
     "metadata": {},
     "output_type": "execute_result"
    }
   ],
   "source": [
    "data['owner'].value_counts()"
   ]
  },
  {
   "cell_type": "code",
   "execution_count": 13,
   "id": "91ba7179",
   "metadata": {},
   "outputs": [
    {
     "data": {
      "text/plain": [
       "Series([], Name: wepp_id, dtype: int64)"
      ]
     },
     "execution_count": 13,
     "metadata": {},
     "output_type": "execute_result"
    }
   ],
   "source": [
    "data['wepp_id'].value_counts()"
   ]
  },
  {
   "cell_type": "code",
   "execution_count": 14,
   "id": "0ffe19c4",
   "metadata": {},
   "outputs": [
    {
     "data": {
      "text/plain": [
       "2019.0    519\n",
       "Name: year_of_capacity_data, dtype: int64"
      ]
     },
     "execution_count": 14,
     "metadata": {},
     "output_type": "execute_result"
    }
   ],
   "source": [
    "data['year_of_capacity_data'].value_counts()"
   ]
  },
  {
   "cell_type": "code",
   "execution_count": 15,
   "id": "7a90f652",
   "metadata": {},
   "outputs": [
    {
     "data": {
      "text/plain": [
       "Series([], Name: generation_gwh_2013, dtype: int64)"
      ]
     },
     "execution_count": 15,
     "metadata": {},
     "output_type": "execute_result"
    }
   ],
   "source": [
    "data['generation_gwh_2013'].value_counts()"
   ]
  },
  {
   "cell_type": "code",
   "execution_count": 16,
   "id": "8f0e2d6f",
   "metadata": {},
   "outputs": [
    {
     "data": {
      "text/plain": [
       "0.000000       28\n",
       "617.789264      1\n",
       "359.139800      1\n",
       "7368.390000     1\n",
       "9983.018000     1\n",
       "               ..\n",
       "4436.700000     1\n",
       "1154.342000     1\n",
       "451.053400      1\n",
       "3239.142900     1\n",
       "3194.359820     1\n",
       "Name: generation_gwh_2014, Length: 371, dtype: int64"
      ]
     },
     "execution_count": 16,
     "metadata": {},
     "output_type": "execute_result"
    }
   ],
   "source": [
    "data['generation_gwh_2014'].value_counts()"
   ]
  },
  {
   "cell_type": "code",
   "execution_count": 17,
   "id": "d5c06897",
   "metadata": {},
   "outputs": [
    {
     "data": {
      "text/plain": [
       "0.000000        27\n",
       "843.747000       1\n",
       "1497.798000      1\n",
       "10422.690000     1\n",
       "240.799900       1\n",
       "                ..\n",
       "6996.000000      1\n",
       "14192.000000     1\n",
       "219.377600       1\n",
       "288.460450       1\n",
       "0.994875         1\n",
       "Name: generation_gwh_2015, Length: 396, dtype: int64"
      ]
     },
     "execution_count": 17,
     "metadata": {},
     "output_type": "execute_result"
    }
   ],
   "source": [
    "data['generation_gwh_2015'].value_counts()"
   ]
  },
  {
   "cell_type": "code",
   "execution_count": 18,
   "id": "7040715a",
   "metadata": {},
   "outputs": [
    {
     "data": {
      "text/plain": [
       "0.000000       30\n",
       "8470.570000     2\n",
       "1511.000000     2\n",
       "886.004428      1\n",
       "90.644500       1\n",
       "               ..\n",
       "1338.095900     1\n",
       "131.021600      1\n",
       "6130.019928     1\n",
       "5931.490000     1\n",
       "233.596650      1\n",
       "Name: generation_gwh_2016, Length: 403, dtype: int64"
      ]
     },
     "execution_count": 18,
     "metadata": {},
     "output_type": "execute_result"
    }
   ],
   "source": [
    "data['generation_gwh_2016'].value_counts()"
   ]
  },
  {
   "cell_type": "code",
   "execution_count": 19,
   "id": "09243179",
   "metadata": {},
   "outputs": [
    {
     "data": {
      "text/plain": [
       "0.00000        32\n",
       "170.08530       2\n",
       "663.77450       1\n",
       "1632.36715      1\n",
       "272.73945       1\n",
       "               ..\n",
       "15177.00000     1\n",
       "191.94545       1\n",
       "307.37540       1\n",
       "382.43820       1\n",
       "865.40000       1\n",
       "Name: generation_gwh_2017, Length: 408, dtype: int64"
      ]
     },
     "execution_count": 19,
     "metadata": {},
     "output_type": "execute_result"
    }
   ],
   "source": [
    "data['generation_gwh_2017'].value_counts()"
   ]
  },
  {
   "cell_type": "code",
   "execution_count": 20,
   "id": "bb783664",
   "metadata": {},
   "outputs": [
    {
     "data": {
      "text/plain": [
       "0.000000        39\n",
       "626.239128       1\n",
       "505.420200       1\n",
       "1098.450150      1\n",
       "17.213500        1\n",
       "                ..\n",
       "220.551700       1\n",
       "7321.267900      1\n",
       "6532.350000      1\n",
       "15305.220000     1\n",
       "686.500000       1\n",
       "Name: generation_gwh_2018, Length: 410, dtype: int64"
      ]
     },
     "execution_count": 20,
     "metadata": {},
     "output_type": "execute_result"
    }
   ],
   "source": [
    "data['generation_gwh_2018'].value_counts()"
   ]
  },
  {
   "cell_type": "code",
   "execution_count": 21,
   "id": "14dc4358",
   "metadata": {},
   "outputs": [
    {
     "data": {
      "text/plain": [
       "Series([], Name: generation_gwh_2019, dtype: int64)"
      ]
     },
     "execution_count": 21,
     "metadata": {},
     "output_type": "execute_result"
    }
   ],
   "source": [
    "data['generation_gwh_2019'].value_counts()"
   ]
  },
  {
   "cell_type": "code",
   "execution_count": 22,
   "id": "248ad6b8",
   "metadata": {},
   "outputs": [
    {
     "data": {
      "text/plain": [
       "Central Electricity Authority    449\n",
       "Name: generation_data_source, dtype: int64"
      ]
     },
     "execution_count": 22,
     "metadata": {},
     "output_type": "execute_result"
    }
   ],
   "source": [
    "data['generation_data_source'].value_counts()"
   ]
  },
  {
   "cell_type": "code",
   "execution_count": 23,
   "id": "642c157e",
   "metadata": {},
   "outputs": [
    {
     "data": {
      "text/plain": [
       "Series([], Name: estimated_generation_gwh, dtype: int64)"
      ]
     },
     "execution_count": 23,
     "metadata": {},
     "output_type": "execute_result"
    }
   ],
   "source": [
    "data['estimated_generation_gwh'].value_counts()"
   ]
  },
  {
   "cell_type": "code",
   "execution_count": 24,
   "id": "15b2eafd",
   "metadata": {},
   "outputs": [
    {
     "data": {
      "text/html": [
       "<div>\n",
       "<style scoped>\n",
       "    .dataframe tbody tr th:only-of-type {\n",
       "        vertical-align: middle;\n",
       "    }\n",
       "\n",
       "    .dataframe tbody tr th {\n",
       "        vertical-align: top;\n",
       "    }\n",
       "\n",
       "    .dataframe thead th {\n",
       "        text-align: right;\n",
       "    }\n",
       "</style>\n",
       "<table border=\"1\" class=\"dataframe\">\n",
       "  <thead>\n",
       "    <tr style=\"text-align: right;\">\n",
       "      <th></th>\n",
       "      <th>country</th>\n",
       "      <th>country_long</th>\n",
       "      <th>gppd_idnr</th>\n",
       "      <th>capacity_mw</th>\n",
       "      <th>latitude</th>\n",
       "      <th>longitude</th>\n",
       "      <th>primary_fuel</th>\n",
       "      <th>other_fuel1</th>\n",
       "      <th>commissioning_year</th>\n",
       "      <th>owner</th>\n",
       "      <th>source</th>\n",
       "      <th>geolocation_source</th>\n",
       "      <th>year_of_capacity_data</th>\n",
       "      <th>generation_gwh_2014</th>\n",
       "      <th>generation_gwh_2015</th>\n",
       "      <th>generation_gwh_2016</th>\n",
       "      <th>generation_gwh_2017</th>\n",
       "      <th>generation_gwh_2018</th>\n",
       "    </tr>\n",
       "  </thead>\n",
       "  <tbody>\n",
       "    <tr>\n",
       "      <th>0</th>\n",
       "      <td>IND</td>\n",
       "      <td>India</td>\n",
       "      <td>WRI1020239</td>\n",
       "      <td>2.5</td>\n",
       "      <td>28.1839</td>\n",
       "      <td>73.2407</td>\n",
       "      <td>Solar</td>\n",
       "      <td>NaN</td>\n",
       "      <td>2011.0</td>\n",
       "      <td>Solar Paces</td>\n",
       "      <td>National Renewable Energy Laboratory</td>\n",
       "      <td>National Renewable Energy Laboratory</td>\n",
       "      <td>NaN</td>\n",
       "      <td>NaN</td>\n",
       "      <td>NaN</td>\n",
       "      <td>NaN</td>\n",
       "      <td>NaN</td>\n",
       "      <td>NaN</td>\n",
       "    </tr>\n",
       "    <tr>\n",
       "      <th>1</th>\n",
       "      <td>IND</td>\n",
       "      <td>India</td>\n",
       "      <td>WRI1019881</td>\n",
       "      <td>98.0</td>\n",
       "      <td>24.7663</td>\n",
       "      <td>74.6090</td>\n",
       "      <td>Coal</td>\n",
       "      <td>NaN</td>\n",
       "      <td>NaN</td>\n",
       "      <td>Ultratech Cement ltd</td>\n",
       "      <td>Ultratech Cement ltd</td>\n",
       "      <td>WRI</td>\n",
       "      <td>NaN</td>\n",
       "      <td>NaN</td>\n",
       "      <td>NaN</td>\n",
       "      <td>NaN</td>\n",
       "      <td>NaN</td>\n",
       "      <td>NaN</td>\n",
       "    </tr>\n",
       "    <tr>\n",
       "      <th>2</th>\n",
       "      <td>IND</td>\n",
       "      <td>India</td>\n",
       "      <td>WRI1026669</td>\n",
       "      <td>39.2</td>\n",
       "      <td>21.9038</td>\n",
       "      <td>69.3732</td>\n",
       "      <td>Wind</td>\n",
       "      <td>NaN</td>\n",
       "      <td>NaN</td>\n",
       "      <td>AES</td>\n",
       "      <td>CDM</td>\n",
       "      <td>WRI</td>\n",
       "      <td>NaN</td>\n",
       "      <td>NaN</td>\n",
       "      <td>NaN</td>\n",
       "      <td>NaN</td>\n",
       "      <td>NaN</td>\n",
       "      <td>NaN</td>\n",
       "    </tr>\n",
       "    <tr>\n",
       "      <th>3</th>\n",
       "      <td>IND</td>\n",
       "      <td>India</td>\n",
       "      <td>IND0000001</td>\n",
       "      <td>135.0</td>\n",
       "      <td>23.8712</td>\n",
       "      <td>91.3602</td>\n",
       "      <td>Gas</td>\n",
       "      <td>NaN</td>\n",
       "      <td>2004.0</td>\n",
       "      <td>NaN</td>\n",
       "      <td>Central Electricity Authority</td>\n",
       "      <td>WRI</td>\n",
       "      <td>2019.0</td>\n",
       "      <td>617.789264</td>\n",
       "      <td>843.747</td>\n",
       "      <td>886.004428</td>\n",
       "      <td>663.774500</td>\n",
       "      <td>626.239128</td>\n",
       "    </tr>\n",
       "    <tr>\n",
       "      <th>4</th>\n",
       "      <td>IND</td>\n",
       "      <td>India</td>\n",
       "      <td>IND0000002</td>\n",
       "      <td>1800.0</td>\n",
       "      <td>21.9603</td>\n",
       "      <td>82.4091</td>\n",
       "      <td>Coal</td>\n",
       "      <td>Oil</td>\n",
       "      <td>2015.0</td>\n",
       "      <td>NaN</td>\n",
       "      <td>Central Electricity Authority</td>\n",
       "      <td>WRI</td>\n",
       "      <td>2019.0</td>\n",
       "      <td>3035.550000</td>\n",
       "      <td>5916.370</td>\n",
       "      <td>6243.000000</td>\n",
       "      <td>5385.579736</td>\n",
       "      <td>7279.000000</td>\n",
       "    </tr>\n",
       "  </tbody>\n",
       "</table>\n",
       "</div>"
      ],
      "text/plain": [
       "  country country_long   gppd_idnr  capacity_mw  latitude  longitude  \\\n",
       "0     IND        India  WRI1020239          2.5   28.1839    73.2407   \n",
       "1     IND        India  WRI1019881         98.0   24.7663    74.6090   \n",
       "2     IND        India  WRI1026669         39.2   21.9038    69.3732   \n",
       "3     IND        India  IND0000001        135.0   23.8712    91.3602   \n",
       "4     IND        India  IND0000002       1800.0   21.9603    82.4091   \n",
       "\n",
       "  primary_fuel other_fuel1  commissioning_year                 owner  \\\n",
       "0        Solar         NaN              2011.0           Solar Paces   \n",
       "1         Coal         NaN                 NaN  Ultratech Cement ltd   \n",
       "2         Wind         NaN                 NaN                   AES   \n",
       "3          Gas         NaN              2004.0                   NaN   \n",
       "4         Coal         Oil              2015.0                   NaN   \n",
       "\n",
       "                                 source                    geolocation_source  \\\n",
       "0  National Renewable Energy Laboratory  National Renewable Energy Laboratory   \n",
       "1                  Ultratech Cement ltd                                   WRI   \n",
       "2                                   CDM                                   WRI   \n",
       "3         Central Electricity Authority                                   WRI   \n",
       "4         Central Electricity Authority                                   WRI   \n",
       "\n",
       "   year_of_capacity_data  generation_gwh_2014  generation_gwh_2015  \\\n",
       "0                    NaN                  NaN                  NaN   \n",
       "1                    NaN                  NaN                  NaN   \n",
       "2                    NaN                  NaN                  NaN   \n",
       "3                 2019.0           617.789264              843.747   \n",
       "4                 2019.0          3035.550000             5916.370   \n",
       "\n",
       "   generation_gwh_2016  generation_gwh_2017  generation_gwh_2018  \n",
       "0                  NaN                  NaN                  NaN  \n",
       "1                  NaN                  NaN                  NaN  \n",
       "2                  NaN                  NaN                  NaN  \n",
       "3           886.004428           663.774500           626.239128  \n",
       "4          6243.000000          5385.579736          7279.000000  "
      ]
     },
     "execution_count": 24,
     "metadata": {},
     "output_type": "execute_result"
    }
   ],
   "source": [
    "data =data.drop(['name','generation_data_source','other_fuel2','other_fuel3','url','wepp_id','generation_gwh_2013','generation_gwh_2019','estimated_generation_gwh'],axis=1)\n",
    "data.head()"
   ]
  },
  {
   "cell_type": "code",
   "execution_count": 25,
   "id": "feed1afb",
   "metadata": {},
   "outputs": [],
   "source": [
    "data['total_generation'] = data['generation_gwh_2014'] + data['generation_gwh_2015'] + data['generation_gwh_2016'] + data['generation_gwh_2017'] + data['generation_gwh_2018'] "
   ]
  },
  {
   "cell_type": "code",
   "execution_count": 26,
   "id": "50e8e3dd",
   "metadata": {},
   "outputs": [
    {
     "data": {
      "text/html": [
       "<div>\n",
       "<style scoped>\n",
       "    .dataframe tbody tr th:only-of-type {\n",
       "        vertical-align: middle;\n",
       "    }\n",
       "\n",
       "    .dataframe tbody tr th {\n",
       "        vertical-align: top;\n",
       "    }\n",
       "\n",
       "    .dataframe thead th {\n",
       "        text-align: right;\n",
       "    }\n",
       "</style>\n",
       "<table border=\"1\" class=\"dataframe\">\n",
       "  <thead>\n",
       "    <tr style=\"text-align: right;\">\n",
       "      <th></th>\n",
       "      <th>country</th>\n",
       "      <th>country_long</th>\n",
       "      <th>gppd_idnr</th>\n",
       "      <th>capacity_mw</th>\n",
       "      <th>latitude</th>\n",
       "      <th>longitude</th>\n",
       "      <th>primary_fuel</th>\n",
       "      <th>other_fuel1</th>\n",
       "      <th>commissioning_year</th>\n",
       "      <th>owner</th>\n",
       "      <th>source</th>\n",
       "      <th>geolocation_source</th>\n",
       "      <th>year_of_capacity_data</th>\n",
       "      <th>total_generation</th>\n",
       "    </tr>\n",
       "  </thead>\n",
       "  <tbody>\n",
       "    <tr>\n",
       "      <th>0</th>\n",
       "      <td>IND</td>\n",
       "      <td>India</td>\n",
       "      <td>WRI1020239</td>\n",
       "      <td>2.5</td>\n",
       "      <td>28.1839</td>\n",
       "      <td>73.2407</td>\n",
       "      <td>Solar</td>\n",
       "      <td>NaN</td>\n",
       "      <td>2011.0</td>\n",
       "      <td>Solar Paces</td>\n",
       "      <td>National Renewable Energy Laboratory</td>\n",
       "      <td>National Renewable Energy Laboratory</td>\n",
       "      <td>NaN</td>\n",
       "      <td>NaN</td>\n",
       "    </tr>\n",
       "    <tr>\n",
       "      <th>1</th>\n",
       "      <td>IND</td>\n",
       "      <td>India</td>\n",
       "      <td>WRI1019881</td>\n",
       "      <td>98.0</td>\n",
       "      <td>24.7663</td>\n",
       "      <td>74.6090</td>\n",
       "      <td>Coal</td>\n",
       "      <td>NaN</td>\n",
       "      <td>NaN</td>\n",
       "      <td>Ultratech Cement ltd</td>\n",
       "      <td>Ultratech Cement ltd</td>\n",
       "      <td>WRI</td>\n",
       "      <td>NaN</td>\n",
       "      <td>NaN</td>\n",
       "    </tr>\n",
       "    <tr>\n",
       "      <th>2</th>\n",
       "      <td>IND</td>\n",
       "      <td>India</td>\n",
       "      <td>WRI1026669</td>\n",
       "      <td>39.2</td>\n",
       "      <td>21.9038</td>\n",
       "      <td>69.3732</td>\n",
       "      <td>Wind</td>\n",
       "      <td>NaN</td>\n",
       "      <td>NaN</td>\n",
       "      <td>AES</td>\n",
       "      <td>CDM</td>\n",
       "      <td>WRI</td>\n",
       "      <td>NaN</td>\n",
       "      <td>NaN</td>\n",
       "    </tr>\n",
       "  </tbody>\n",
       "</table>\n",
       "</div>"
      ],
      "text/plain": [
       "  country country_long   gppd_idnr  capacity_mw  latitude  longitude  \\\n",
       "0     IND        India  WRI1020239          2.5   28.1839    73.2407   \n",
       "1     IND        India  WRI1019881         98.0   24.7663    74.6090   \n",
       "2     IND        India  WRI1026669         39.2   21.9038    69.3732   \n",
       "\n",
       "  primary_fuel other_fuel1  commissioning_year                 owner  \\\n",
       "0        Solar         NaN              2011.0           Solar Paces   \n",
       "1         Coal         NaN                 NaN  Ultratech Cement ltd   \n",
       "2         Wind         NaN                 NaN                   AES   \n",
       "\n",
       "                                 source                    geolocation_source  \\\n",
       "0  National Renewable Energy Laboratory  National Renewable Energy Laboratory   \n",
       "1                  Ultratech Cement ltd                                   WRI   \n",
       "2                                   CDM                                   WRI   \n",
       "\n",
       "   year_of_capacity_data  total_generation  \n",
       "0                    NaN               NaN  \n",
       "1                    NaN               NaN  \n",
       "2                    NaN               NaN  "
      ]
     },
     "execution_count": 26,
     "metadata": {},
     "output_type": "execute_result"
    }
   ],
   "source": [
    "data =data.drop(['generation_gwh_2014','generation_gwh_2015','generation_gwh_2016','generation_gwh_2017','generation_gwh_2018'] ,axis=1)\n",
    "data.head(3)"
   ]
  },
  {
   "cell_type": "code",
   "execution_count": 27,
   "id": "67099a9f",
   "metadata": {},
   "outputs": [],
   "source": [
    "data['total_generation'].fillna((data['total_generation'].mean()), inplace=True)"
   ]
  },
  {
   "cell_type": "code",
   "execution_count": 28,
   "id": "b526c9f2",
   "metadata": {},
   "outputs": [],
   "source": [
    "data['other_fuel1'].fillna(data['other_fuel1'].mode()[0], inplace = True)"
   ]
  },
  {
   "cell_type": "code",
   "execution_count": 29,
   "id": "d7491da4",
   "metadata": {},
   "outputs": [
    {
     "data": {
      "text/plain": [
       "0      Oil\n",
       "1      Oil\n",
       "2      Oil\n",
       "3      Oil\n",
       "4      Oil\n",
       "      ... \n",
       "902    Oil\n",
       "903    Oil\n",
       "904    Oil\n",
       "905    Oil\n",
       "906    Oil\n",
       "Name: other_fuel1, Length: 907, dtype: object"
      ]
     },
     "execution_count": 29,
     "metadata": {},
     "output_type": "execute_result"
    }
   ],
   "source": [
    "data['other_fuel1']"
   ]
  },
  {
   "cell_type": "code",
   "execution_count": 30,
   "id": "af49b0b7",
   "metadata": {},
   "outputs": [],
   "source": [
    "data['owner'].fillna(data['owner'].mode()[0], inplace = True)"
   ]
  },
  {
   "cell_type": "code",
   "execution_count": 31,
   "id": "e4d8266e",
   "metadata": {},
   "outputs": [
    {
     "data": {
      "text/plain": [
       "0                              Solar Paces\n",
       "1                     Ultratech Cement ltd\n",
       "2                                      AES\n",
       "3                              Acc Acc ltd\n",
       "4                              Acc Acc ltd\n",
       "                      ...                 \n",
       "902                            Acc Acc ltd\n",
       "903    Karnataka Power Corporation Limited\n",
       "904                            Acc Acc ltd\n",
       "905                     Hindustan Zinc ltd\n",
       "906                     iEnergy Wind Farms\n",
       "Name: owner, Length: 907, dtype: object"
      ]
     },
     "execution_count": 31,
     "metadata": {},
     "output_type": "execute_result"
    }
   ],
   "source": [
    "data['owner']"
   ]
  },
  {
   "cell_type": "code",
   "execution_count": 35,
   "id": "802a0727",
   "metadata": {},
   "outputs": [],
   "source": [
    "data =data.fillna(0)"
   ]
  },
  {
   "cell_type": "code",
   "execution_count": 36,
   "id": "31848447",
   "metadata": {},
   "outputs": [
    {
     "data": {
      "text/plain": [
       "country                  0\n",
       "country_long             0\n",
       "gppd_idnr                0\n",
       "capacity_mw              0\n",
       "latitude                 0\n",
       "longitude                0\n",
       "primary_fuel             0\n",
       "other_fuel1              0\n",
       "commissioning_year       0\n",
       "owner                    0\n",
       "source                   0\n",
       "geolocation_source       0\n",
       "year_of_capacity_data    0\n",
       "total_generation         0\n",
       "dtype: int64"
      ]
     },
     "execution_count": 36,
     "metadata": {},
     "output_type": "execute_result"
    }
   ],
   "source": [
    "data.isnull().sum()"
   ]
  },
  {
   "cell_type": "code",
   "execution_count": 37,
   "id": "ea61a41c",
   "metadata": {},
   "outputs": [
    {
     "data": {
      "text/html": [
       "<div>\n",
       "<style scoped>\n",
       "    .dataframe tbody tr th:only-of-type {\n",
       "        vertical-align: middle;\n",
       "    }\n",
       "\n",
       "    .dataframe tbody tr th {\n",
       "        vertical-align: top;\n",
       "    }\n",
       "\n",
       "    .dataframe thead th {\n",
       "        text-align: right;\n",
       "    }\n",
       "</style>\n",
       "<table border=\"1\" class=\"dataframe\">\n",
       "  <thead>\n",
       "    <tr style=\"text-align: right;\">\n",
       "      <th></th>\n",
       "      <th>country</th>\n",
       "      <th>country_long</th>\n",
       "      <th>gppd_idnr</th>\n",
       "      <th>capacity_mw</th>\n",
       "      <th>latitude</th>\n",
       "      <th>longitude</th>\n",
       "      <th>primary_fuel</th>\n",
       "      <th>other_fuel1</th>\n",
       "      <th>commissioning_year</th>\n",
       "      <th>owner</th>\n",
       "      <th>source</th>\n",
       "      <th>geolocation_source</th>\n",
       "      <th>year_of_capacity_data</th>\n",
       "      <th>total_generation</th>\n",
       "    </tr>\n",
       "  </thead>\n",
       "  <tbody>\n",
       "    <tr>\n",
       "      <th>0</th>\n",
       "      <td>IND</td>\n",
       "      <td>India</td>\n",
       "      <td>WRI1020239</td>\n",
       "      <td>2.5</td>\n",
       "      <td>28.1839</td>\n",
       "      <td>73.2407</td>\n",
       "      <td>Solar</td>\n",
       "      <td>Oil</td>\n",
       "      <td>2011.0</td>\n",
       "      <td>Solar Paces</td>\n",
       "      <td>National Renewable Energy Laboratory</td>\n",
       "      <td>National Renewable Energy Laboratory</td>\n",
       "      <td>0.0</td>\n",
       "      <td>13114.831488</td>\n",
       "    </tr>\n",
       "    <tr>\n",
       "      <th>1</th>\n",
       "      <td>IND</td>\n",
       "      <td>India</td>\n",
       "      <td>WRI1019881</td>\n",
       "      <td>98.0</td>\n",
       "      <td>24.7663</td>\n",
       "      <td>74.6090</td>\n",
       "      <td>Coal</td>\n",
       "      <td>Oil</td>\n",
       "      <td>0.0</td>\n",
       "      <td>Ultratech Cement ltd</td>\n",
       "      <td>Ultratech Cement ltd</td>\n",
       "      <td>WRI</td>\n",
       "      <td>0.0</td>\n",
       "      <td>13114.831488</td>\n",
       "    </tr>\n",
       "    <tr>\n",
       "      <th>2</th>\n",
       "      <td>IND</td>\n",
       "      <td>India</td>\n",
       "      <td>WRI1026669</td>\n",
       "      <td>39.2</td>\n",
       "      <td>21.9038</td>\n",
       "      <td>69.3732</td>\n",
       "      <td>Wind</td>\n",
       "      <td>Oil</td>\n",
       "      <td>0.0</td>\n",
       "      <td>AES</td>\n",
       "      <td>CDM</td>\n",
       "      <td>WRI</td>\n",
       "      <td>0.0</td>\n",
       "      <td>13114.831488</td>\n",
       "    </tr>\n",
       "    <tr>\n",
       "      <th>3</th>\n",
       "      <td>IND</td>\n",
       "      <td>India</td>\n",
       "      <td>IND0000001</td>\n",
       "      <td>135.0</td>\n",
       "      <td>23.8712</td>\n",
       "      <td>91.3602</td>\n",
       "      <td>Gas</td>\n",
       "      <td>Oil</td>\n",
       "      <td>2004.0</td>\n",
       "      <td>Acc Acc ltd</td>\n",
       "      <td>Central Electricity Authority</td>\n",
       "      <td>WRI</td>\n",
       "      <td>2019.0</td>\n",
       "      <td>3637.554320</td>\n",
       "    </tr>\n",
       "    <tr>\n",
       "      <th>4</th>\n",
       "      <td>IND</td>\n",
       "      <td>India</td>\n",
       "      <td>IND0000002</td>\n",
       "      <td>1800.0</td>\n",
       "      <td>21.9603</td>\n",
       "      <td>82.4091</td>\n",
       "      <td>Coal</td>\n",
       "      <td>Oil</td>\n",
       "      <td>2015.0</td>\n",
       "      <td>Acc Acc ltd</td>\n",
       "      <td>Central Electricity Authority</td>\n",
       "      <td>WRI</td>\n",
       "      <td>2019.0</td>\n",
       "      <td>27859.499736</td>\n",
       "    </tr>\n",
       "  </tbody>\n",
       "</table>\n",
       "</div>"
      ],
      "text/plain": [
       "  country country_long   gppd_idnr  capacity_mw  latitude  longitude  \\\n",
       "0     IND        India  WRI1020239          2.5   28.1839    73.2407   \n",
       "1     IND        India  WRI1019881         98.0   24.7663    74.6090   \n",
       "2     IND        India  WRI1026669         39.2   21.9038    69.3732   \n",
       "3     IND        India  IND0000001        135.0   23.8712    91.3602   \n",
       "4     IND        India  IND0000002       1800.0   21.9603    82.4091   \n",
       "\n",
       "  primary_fuel other_fuel1  commissioning_year                 owner  \\\n",
       "0        Solar         Oil              2011.0           Solar Paces   \n",
       "1         Coal         Oil                 0.0  Ultratech Cement ltd   \n",
       "2         Wind         Oil                 0.0                   AES   \n",
       "3          Gas         Oil              2004.0           Acc Acc ltd   \n",
       "4         Coal         Oil              2015.0           Acc Acc ltd   \n",
       "\n",
       "                                 source                    geolocation_source  \\\n",
       "0  National Renewable Energy Laboratory  National Renewable Energy Laboratory   \n",
       "1                  Ultratech Cement ltd                                   WRI   \n",
       "2                                   CDM                                   WRI   \n",
       "3         Central Electricity Authority                                   WRI   \n",
       "4         Central Electricity Authority                                   WRI   \n",
       "\n",
       "   year_of_capacity_data  total_generation  \n",
       "0                    0.0      13114.831488  \n",
       "1                    0.0      13114.831488  \n",
       "2                    0.0      13114.831488  \n",
       "3                 2019.0       3637.554320  \n",
       "4                 2019.0      27859.499736  "
      ]
     },
     "execution_count": 37,
     "metadata": {},
     "output_type": "execute_result"
    }
   ],
   "source": [
    "data.head()"
   ]
  },
  {
   "cell_type": "code",
   "execution_count": 38,
   "id": "bbd51baa",
   "metadata": {},
   "outputs": [
    {
     "data": {
      "text/plain": [
       "country                   object\n",
       "country_long              object\n",
       "gppd_idnr                 object\n",
       "capacity_mw              float64\n",
       "latitude                 float64\n",
       "longitude                float64\n",
       "primary_fuel              object\n",
       "other_fuel1               object\n",
       "commissioning_year       float64\n",
       "owner                     object\n",
       "source                    object\n",
       "geolocation_source        object\n",
       "year_of_capacity_data    float64\n",
       "total_generation         float64\n",
       "dtype: object"
      ]
     },
     "execution_count": 38,
     "metadata": {},
     "output_type": "execute_result"
    }
   ],
   "source": [
    "data.dtypes"
   ]
  },
  {
   "cell_type": "code",
   "execution_count": 39,
   "id": "5adb5c3b",
   "metadata": {},
   "outputs": [],
   "source": [
    "le =LabelEncoder()\n",
    "data[\"country\"]=le.fit_transform(data[\"country\"])\n",
    "data[\"country_long\"]=le.fit_transform(data[\"country_long\"])\n",
    "data[\"gppd_idnr\"]=le.fit_transform(data[\"gppd_idnr\"])\n",
    "data[\"primary_fuel\"]=le.fit_transform(data[\"primary_fuel\"])"
   ]
  },
  {
   "cell_type": "code",
   "execution_count": 40,
   "id": "8c1f3365",
   "metadata": {},
   "outputs": [],
   "source": [
    "data[\"other_fuel1\"]=le.fit_transform(data[\"other_fuel1\"])"
   ]
  },
  {
   "cell_type": "code",
   "execution_count": 41,
   "id": "071ec392",
   "metadata": {},
   "outputs": [],
   "source": [
    "data['owner']=le.fit_transform(data['owner'])"
   ]
  },
  {
   "cell_type": "code",
   "execution_count": 42,
   "id": "86cb0238",
   "metadata": {},
   "outputs": [],
   "source": [
    "data['source']=le.fit_transform(data['source'])"
   ]
  },
  {
   "cell_type": "code",
   "execution_count": 44,
   "id": "a729bac3",
   "metadata": {},
   "outputs": [],
   "source": [
    "data['geolocation_source'] = data['geolocation_source'].replace(0,'National Renewable Energy Laboratory')"
   ]
  },
  {
   "cell_type": "code",
   "execution_count": 45,
   "id": "0c3b2067",
   "metadata": {},
   "outputs": [
    {
     "data": {
      "text/plain": [
       "WRI                                     765\n",
       "Industry About                          119\n",
       "National Renewable Energy Laboratory     23\n",
       "Name: geolocation_source, dtype: int64"
      ]
     },
     "execution_count": 45,
     "metadata": {},
     "output_type": "execute_result"
    }
   ],
   "source": [
    "data['geolocation_source'].value_counts()"
   ]
  },
  {
   "cell_type": "code",
   "execution_count": 46,
   "id": "324c3730",
   "metadata": {},
   "outputs": [],
   "source": [
    "data['geolocation_source']=le.fit_transform(data['geolocation_source'])"
   ]
  },
  {
   "cell_type": "code",
   "execution_count": 47,
   "id": "cb4ff04e",
   "metadata": {},
   "outputs": [
    {
     "data": {
      "text/html": [
       "<div>\n",
       "<style scoped>\n",
       "    .dataframe tbody tr th:only-of-type {\n",
       "        vertical-align: middle;\n",
       "    }\n",
       "\n",
       "    .dataframe tbody tr th {\n",
       "        vertical-align: top;\n",
       "    }\n",
       "\n",
       "    .dataframe thead th {\n",
       "        text-align: right;\n",
       "    }\n",
       "</style>\n",
       "<table border=\"1\" class=\"dataframe\">\n",
       "  <thead>\n",
       "    <tr style=\"text-align: right;\">\n",
       "      <th></th>\n",
       "      <th>country</th>\n",
       "      <th>country_long</th>\n",
       "      <th>gppd_idnr</th>\n",
       "      <th>capacity_mw</th>\n",
       "      <th>latitude</th>\n",
       "      <th>longitude</th>\n",
       "      <th>primary_fuel</th>\n",
       "      <th>other_fuel1</th>\n",
       "      <th>commissioning_year</th>\n",
       "      <th>owner</th>\n",
       "      <th>source</th>\n",
       "      <th>geolocation_source</th>\n",
       "      <th>year_of_capacity_data</th>\n",
       "      <th>total_generation</th>\n",
       "    </tr>\n",
       "  </thead>\n",
       "  <tbody>\n",
       "    <tr>\n",
       "      <th>0</th>\n",
       "      <td>0</td>\n",
       "      <td>0</td>\n",
       "      <td>657</td>\n",
       "      <td>2.5</td>\n",
       "      <td>28.1839</td>\n",
       "      <td>73.2407</td>\n",
       "      <td>6</td>\n",
       "      <td>2</td>\n",
       "      <td>2011.0</td>\n",
       "      <td>229</td>\n",
       "      <td>109</td>\n",
       "      <td>1</td>\n",
       "      <td>0.0</td>\n",
       "      <td>13114.831488</td>\n",
       "    </tr>\n",
       "    <tr>\n",
       "      <th>1</th>\n",
       "      <td>0</td>\n",
       "      <td>0</td>\n",
       "      <td>519</td>\n",
       "      <td>98.0</td>\n",
       "      <td>24.7663</td>\n",
       "      <td>74.6090</td>\n",
       "      <td>1</td>\n",
       "      <td>2</td>\n",
       "      <td>0.0</td>\n",
       "      <td>258</td>\n",
       "      <td>174</td>\n",
       "      <td>2</td>\n",
       "      <td>0.0</td>\n",
       "      <td>13114.831488</td>\n",
       "    </tr>\n",
       "    <tr>\n",
       "      <th>2</th>\n",
       "      <td>0</td>\n",
       "      <td>0</td>\n",
       "      <td>853</td>\n",
       "      <td>39.2</td>\n",
       "      <td>21.9038</td>\n",
       "      <td>69.3732</td>\n",
       "      <td>7</td>\n",
       "      <td>2</td>\n",
       "      <td>0.0</td>\n",
       "      <td>2</td>\n",
       "      <td>21</td>\n",
       "      <td>2</td>\n",
       "      <td>0.0</td>\n",
       "      <td>13114.831488</td>\n",
       "    </tr>\n",
       "    <tr>\n",
       "      <th>3</th>\n",
       "      <td>0</td>\n",
       "      <td>0</td>\n",
       "      <td>0</td>\n",
       "      <td>135.0</td>\n",
       "      <td>23.8712</td>\n",
       "      <td>91.3602</td>\n",
       "      <td>2</td>\n",
       "      <td>2</td>\n",
       "      <td>2004.0</td>\n",
       "      <td>5</td>\n",
       "      <td>22</td>\n",
       "      <td>2</td>\n",
       "      <td>2019.0</td>\n",
       "      <td>3637.554320</td>\n",
       "    </tr>\n",
       "    <tr>\n",
       "      <th>4</th>\n",
       "      <td>0</td>\n",
       "      <td>0</td>\n",
       "      <td>1</td>\n",
       "      <td>1800.0</td>\n",
       "      <td>21.9603</td>\n",
       "      <td>82.4091</td>\n",
       "      <td>1</td>\n",
       "      <td>2</td>\n",
       "      <td>2015.0</td>\n",
       "      <td>5</td>\n",
       "      <td>22</td>\n",
       "      <td>2</td>\n",
       "      <td>2019.0</td>\n",
       "      <td>27859.499736</td>\n",
       "    </tr>\n",
       "  </tbody>\n",
       "</table>\n",
       "</div>"
      ],
      "text/plain": [
       "   country  country_long  gppd_idnr  capacity_mw  latitude  longitude  \\\n",
       "0        0             0        657          2.5   28.1839    73.2407   \n",
       "1        0             0        519         98.0   24.7663    74.6090   \n",
       "2        0             0        853         39.2   21.9038    69.3732   \n",
       "3        0             0          0        135.0   23.8712    91.3602   \n",
       "4        0             0          1       1800.0   21.9603    82.4091   \n",
       "\n",
       "   primary_fuel  other_fuel1  commissioning_year  owner  source  \\\n",
       "0             6            2              2011.0    229     109   \n",
       "1             1            2                 0.0    258     174   \n",
       "2             7            2                 0.0      2      21   \n",
       "3             2            2              2004.0      5      22   \n",
       "4             1            2              2015.0      5      22   \n",
       "\n",
       "   geolocation_source  year_of_capacity_data  total_generation  \n",
       "0                   1                    0.0      13114.831488  \n",
       "1                   2                    0.0      13114.831488  \n",
       "2                   2                    0.0      13114.831488  \n",
       "3                   2                 2019.0       3637.554320  \n",
       "4                   2                 2019.0      27859.499736  "
      ]
     },
     "execution_count": 47,
     "metadata": {},
     "output_type": "execute_result"
    }
   ],
   "source": [
    "data.head()"
   ]
  },
  {
   "cell_type": "code",
   "execution_count": 48,
   "id": "879f7142",
   "metadata": {},
   "outputs": [
    {
     "data": {
      "text/plain": [
       "(907, 14)"
      ]
     },
     "execution_count": 48,
     "metadata": {},
     "output_type": "execute_result"
    }
   ],
   "source": [
    "data.shape"
   ]
  },
  {
   "cell_type": "code",
   "execution_count": 49,
   "id": "b8a859f8",
   "metadata": {},
   "outputs": [
    {
     "data": {
      "image/png": "[encoded data removed]",
      "text/plain": [
       "<Figure size 2000x2000 with 14 Axes>"
      ]
     },
     "metadata": {},
     "output_type": "display_data"
    }
   ],
   "source": [
    "plt.figure(figsize=(20,20) )\n",
    "plotnumber=1\n",
    "\n",
    "for column in data:\n",
    "    if plotnumber<=14:\n",
    "        ax=plt.subplot(2,7,plotnumber)\n",
    "        sns.distplot(data[column])\n",
    "        plt.xlabel(column,fontsize=20)\n",
    "        \n",
    "\n",
    "    plotnumber+=1\n",
    "plt.tight_layout()"
   ]
  },
  {
   "cell_type": "markdown",
   "id": "f0ce2f99",
   "metadata": {},
   "source": [
    "# 1 Prediction"
   ]
  },
  {
   "cell_type": "code",
   "execution_count": 50,
   "id": "d20f0562",
   "metadata": {},
   "outputs": [],
   "source": [
    "x =data.drop(['primary_fuel'], axis =1)\n",
    "y =data['primary_fuel']"
   ]
  },
  {
   "cell_type": "code",
   "execution_count": 51,
   "id": "14130042",
   "metadata": {},
   "outputs": [
    {
     "data": {
      "text/plain": [
       "total_generation          5.222428\n",
       "capacity_mw               3.123576\n",
       "source                    1.827373\n",
       "owner                     1.364406\n",
       "country                   0.000000\n",
       "country_long              0.000000\n",
       "gppd_idnr                 0.000000\n",
       "year_of_capacity_data    -0.292409\n",
       "commissioning_year       -0.328505\n",
       "latitude                 -0.730074\n",
       "geolocation_source       -2.030507\n",
       "longitude                -3.581827\n",
       "other_fuel1             -20.453120\n",
       "dtype: float64"
      ]
     },
     "execution_count": 51,
     "metadata": {},
     "output_type": "execute_result"
    }
   ],
   "source": [
    "x.skew().sort_values(ascending=False)"
   ]
  },
  {
   "cell_type": "code",
   "execution_count": 52,
   "id": "26c5b8e3",
   "metadata": {},
   "outputs": [
    {
     "data": {
      "text/plain": [
       "owner                     0.467077\n",
       "total_generation          0.156743\n",
       "capacity_mw               0.022164\n",
       "country                   0.000000\n",
       "country_long              0.000000\n",
       "source                   -0.214066\n",
       "gppd_idnr                -0.288179\n",
       "year_of_capacity_data    -0.292409\n",
       "latitude                 -0.323518\n",
       "commissioning_year       -0.329010\n",
       "longitude                -1.532802\n",
       "geolocation_source       -1.897430\n",
       "other_fuel1             -17.330022\n",
       "dtype: float64"
      ]
     },
     "execution_count": 52,
     "metadata": {},
     "output_type": "execute_result"
    }
   ],
   "source": [
    "x_new =power_transform(x)\n",
    "x = pd.DataFrame(x_new, columns= x.columns)\n",
    "x.skew().sort_values(ascending=False)"
   ]
  },
  {
   "cell_type": "code",
   "execution_count": 55,
   "id": "1709eb7b",
   "metadata": {},
   "outputs": [],
   "source": [
    "best_features =SelectKBest(score_func=f_classif, k=10)"
   ]
  },
  {
   "cell_type": "code",
   "execution_count": 56,
   "id": "7af0041c",
   "metadata": {},
   "outputs": [],
   "source": [
    "fit =best_features.fit(x,y)"
   ]
  },
  {
   "cell_type": "code",
   "execution_count": 57,
   "id": "fa99e5fd",
   "metadata": {},
   "outputs": [],
   "source": [
    "data_scores =pd.DataFrame(fit.scores_)"
   ]
  },
  {
   "cell_type": "code",
   "execution_count": 58,
   "id": "8d21b91b",
   "metadata": {},
   "outputs": [],
   "source": [
    "data_columns =pd.DataFrame(x.columns)"
   ]
  },
  {
   "cell_type": "code",
   "execution_count": 59,
   "id": "4747b1e0",
   "metadata": {},
   "outputs": [],
   "source": [
    "feature_scores =pd.concat([data_columns,data_scores], axis=1)"
   ]
  },
  {
   "cell_type": "code",
   "execution_count": 60,
   "id": "06b01bd4",
   "metadata": {},
   "outputs": [],
   "source": [
    "feature_scores.columns =['Feature_Name','Score']"
   ]
  },
  {
   "cell_type": "code",
   "execution_count": 61,
   "id": "20df9968",
   "metadata": {},
   "outputs": [
    {
     "name": "stdout",
     "output_type": "stream",
     "text": [
      "             Feature_Name        Score\n",
      "10     geolocation_source  1208.542208\n",
      "11  year_of_capacity_data   311.691771\n",
      "7      commissioning_year   263.181532\n",
      "2               gppd_idnr   199.926624\n",
      "3             capacity_mw   128.078007\n",
      "8                   owner   119.605746\n",
      "9                  source    61.951432\n",
      "12       total_generation    49.523082\n",
      "5               longitude    16.048011\n",
      "4                latitude    14.384278\n"
     ]
    }
   ],
   "source": [
    "print(feature_scores.nlargest(10,'Score'))"
   ]
  },
  {
   "cell_type": "code",
   "execution_count": 62,
   "id": "8f6af377",
   "metadata": {},
   "outputs": [],
   "source": [
    "new_x =data[['geolocation_source','year_of_capacity_data','commissioning_year','gppd_idnr','capacity_mw','owner','source','total_generation','longitude','latitude']]"
   ]
  },
  {
   "cell_type": "code",
   "execution_count": 63,
   "id": "25935840",
   "metadata": {},
   "outputs": [],
   "source": [
    "scalar = StandardScaler()\n",
    "x_scalar = scalar.fit_transform(new_x)"
   ]
  },
  {
   "cell_type": "code",
   "execution_count": 65,
   "id": "c5de9caf",
   "metadata": {},
   "outputs": [
    {
     "name": "stdout",
     "output_type": "stream",
     "text": [
      "accuracy 0.8237885462555066 random state 1\n",
      "accuracy 0.8237885462555066 random state 1\n",
      "accuracy 0.8414096916299559 random state 2\n",
      "accuracy 0.8414096916299559 random state 2\n",
      "accuracy 0.8502202643171806 random state 3\n",
      "accuracy 0.8502202643171806 random state 3\n",
      "accuracy 0.8502202643171806 random state 4\n",
      "accuracy 0.8722466960352423 random state 5\n",
      "accuracy 0.8722466960352423 random state 5\n",
      "accuracy 0.8281938325991189 random state 6\n",
      "accuracy 0.8370044052863436 random state 7\n",
      "accuracy 0.8546255506607929 random state 8\n",
      "accuracy 0.8722466960352423 random state 9\n",
      "accuracy 0.8546255506607929 random state 10\n",
      "accuracy 0.8810572687224669 random state 11\n",
      "accuracy 0.8810572687224669 random state 11\n",
      "accuracy 0.8722466960352423 random state 12\n",
      "accuracy 0.8237885462555066 random state 13\n",
      "accuracy 0.8854625550660793 random state 14\n",
      "accuracy 0.8854625550660793 random state 14\n",
      "accuracy 0.8678414096916299 random state 15\n",
      "accuracy 0.8281938325991189 random state 16\n",
      "accuracy 0.8854625550660793 random state 17\n",
      "accuracy 0.8502202643171806 random state 18\n",
      "accuracy 0.8458149779735683 random state 19\n",
      "accuracy 0.8546255506607929 random state 20\n",
      "accuracy 0.8546255506607929 random state 21\n",
      "accuracy 0.8281938325991189 random state 22\n",
      "accuracy 0.8678414096916299 random state 23\n",
      "accuracy 0.8458149779735683 random state 24\n",
      "accuracy 0.8854625550660793 random state 25\n",
      "accuracy 0.8458149779735683 random state 26\n",
      "accuracy 0.8722466960352423 random state 27\n",
      "accuracy 0.8766519823788547 random state 28\n",
      "accuracy 0.8590308370044053 random state 29\n",
      "accuracy 0.8502202643171806 random state 30\n",
      "accuracy 0.8237885462555066 random state 31\n",
      "accuracy 0.8458149779735683 random state 32\n",
      "accuracy 0.8590308370044053 random state 33\n",
      "accuracy 0.8722466960352423 random state 34\n",
      "accuracy 0.8458149779735683 random state 35\n",
      "accuracy 0.8325991189427313 random state 36\n",
      "accuracy 0.8634361233480177 random state 37\n",
      "accuracy 0.8370044052863436 random state 38\n",
      "accuracy 0.8546255506607929 random state 39\n",
      "accuracy 0.8590308370044053 random state 40\n",
      "accuracy 0.8458149779735683 random state 41\n",
      "accuracy 0.8237885462555066 random state 42\n",
      "accuracy 0.8149779735682819 random state 43\n",
      "accuracy 0.8766519823788547 random state 44\n",
      "accuracy 0.8458149779735683 random state 45\n",
      "accuracy 0.8546255506607929 random state 46\n",
      "accuracy 0.8546255506607929 random state 47\n",
      "accuracy 0.8898678414096917 random state 48\n",
      "accuracy 0.8898678414096917 random state 48\n",
      "accuracy 0.8546255506607929 random state 49\n",
      "accuracy 0.8634361233480177 random state 50\n",
      "accuracy 0.8414096916299559 random state 51\n",
      "accuracy 0.8810572687224669 random state 52\n",
      "accuracy 0.8502202643171806 random state 53\n",
      "accuracy 0.8986784140969163 random state 54\n",
      "accuracy 0.8986784140969163 random state 54\n",
      "accuracy 0.8678414096916299 random state 55\n",
      "accuracy 0.8370044052863436 random state 56\n",
      "accuracy 0.8370044052863436 random state 57\n",
      "accuracy 0.8942731277533039 random state 58\n",
      "accuracy 0.8370044052863436 random state 59\n",
      "accuracy 0.8458149779735683 random state 60\n",
      "accuracy 0.8590308370044053 random state 61\n",
      "accuracy 0.8370044052863436 random state 62\n",
      "accuracy 0.8810572687224669 random state 63\n",
      "accuracy 0.8634361233480177 random state 64\n",
      "accuracy 0.8237885462555066 random state 65\n",
      "accuracy 0.8414096916299559 random state 66\n",
      "accuracy 0.8281938325991189 random state 67\n",
      "accuracy 0.8502202643171806 random state 68\n",
      "accuracy 0.8590308370044053 random state 69\n",
      "accuracy 0.8634361233480177 random state 70\n",
      "accuracy 0.8502202643171806 random state 71\n",
      "accuracy 0.8325991189427313 random state 72\n",
      "accuracy 0.8370044052863436 random state 73\n",
      "accuracy 0.8678414096916299 random state 74\n",
      "accuracy 0.8634361233480177 random state 75\n",
      "accuracy 0.8105726872246696 random state 76\n",
      "accuracy 0.8942731277533039 random state 77\n",
      "accuracy 0.8634361233480177 random state 78\n",
      "accuracy 0.8722466960352423 random state 79\n",
      "accuracy 0.8325991189427313 random state 80\n",
      "accuracy 0.8414096916299559 random state 81\n",
      "accuracy 0.788546255506608 random state 82\n",
      "accuracy 0.8678414096916299 random state 83\n",
      "accuracy 0.8370044052863436 random state 84\n",
      "accuracy 0.8722466960352423 random state 85\n",
      "accuracy 0.8678414096916299 random state 86\n",
      "accuracy 0.8546255506607929 random state 87\n",
      "accuracy 0.8766519823788547 random state 88\n",
      "accuracy 0.8590308370044053 random state 89\n",
      "accuracy 0.8590308370044053 random state 90\n",
      "accuracy 0.8810572687224669 random state 91\n",
      "accuracy 0.8678414096916299 random state 92\n",
      "accuracy 0.8634361233480177 random state 93\n",
      "accuracy 0.8370044052863436 random state 94\n",
      "accuracy 0.8237885462555066 random state 95\n",
      "accuracy 0.8766519823788547 random state 96\n",
      "accuracy 0.8942731277533039 random state 97\n",
      "accuracy 0.8898678414096917 random state 98\n",
      "accuracy 0.8325991189427313 random state 99\n",
      "accuracy 0.8678414096916299 random state 100\n",
      "accuracy 0.8546255506607929 random state 101\n",
      "accuracy 0.8325991189427313 random state 102\n",
      "accuracy 0.8810572687224669 random state 103\n",
      "accuracy 0.8370044052863436 random state 104\n",
      "accuracy 0.8942731277533039 random state 105\n",
      "accuracy 0.8678414096916299 random state 106\n",
      "accuracy 0.8898678414096917 random state 107\n",
      "accuracy 0.8590308370044053 random state 108\n",
      "accuracy 0.8370044052863436 random state 109\n",
      "accuracy 0.8325991189427313 random state 110\n",
      "accuracy 0.8546255506607929 random state 111\n",
      "accuracy 0.8722466960352423 random state 112\n",
      "accuracy 0.8546255506607929 random state 113\n",
      "accuracy 0.8546255506607929 random state 114\n",
      "accuracy 0.8590308370044053 random state 115\n",
      "accuracy 0.8766519823788547 random state 116\n",
      "accuracy 0.8281938325991189 random state 117\n",
      "accuracy 0.8810572687224669 random state 118\n",
      "accuracy 0.8546255506607929 random state 119\n",
      "accuracy 0.8281938325991189 random state 120\n",
      "accuracy 0.8546255506607929 random state 121\n",
      "accuracy 0.8634361233480177 random state 122\n",
      "accuracy 0.8237885462555066 random state 123\n",
      "accuracy 0.8590308370044053 random state 124\n",
      "accuracy 0.8590308370044053 random state 125\n",
      "accuracy 0.8766519823788547 random state 126\n",
      "accuracy 0.7973568281938326 random state 127\n",
      "accuracy 0.8634361233480177 random state 128\n",
      "accuracy 0.8634361233480177 random state 129\n",
      "accuracy 0.8502202643171806 random state 130\n",
      "accuracy 0.8634361233480177 random state 131\n",
      "accuracy 0.8546255506607929 random state 132\n",
      "accuracy 0.8502202643171806 random state 133\n",
      "accuracy 0.8237885462555066 random state 134\n",
      "accuracy 0.9074889867841409 random state 135\n",
      "accuracy 0.9074889867841409 random state 135\n",
      "accuracy 0.8502202643171806 random state 136\n",
      "accuracy 0.8546255506607929 random state 137\n",
      "accuracy 0.8546255506607929 random state 138\n",
      "accuracy 0.8281938325991189 random state 139\n",
      "accuracy 0.8942731277533039 random state 140\n",
      "accuracy 0.8590308370044053 random state 141\n",
      "accuracy 0.8634361233480177 random state 142\n",
      "accuracy 0.8590308370044053 random state 143\n",
      "accuracy 0.8722466960352423 random state 144\n",
      "accuracy 0.8590308370044053 random state 145\n",
      "accuracy 0.8193832599118943 random state 146\n",
      "accuracy 0.8502202643171806 random state 147\n",
      "accuracy 0.8810572687224669 random state 148\n",
      "accuracy 0.8766519823788547 random state 149\n",
      "accuracy 0.8634361233480177 random state 150\n",
      "accuracy 0.8458149779735683 random state 151\n",
      "accuracy 0.8854625550660793 random state 152\n",
      "accuracy 0.8590308370044053 random state 153\n",
      "accuracy 0.8458149779735683 random state 154\n",
      "accuracy 0.8898678414096917 random state 155\n",
      "accuracy 0.8149779735682819 random state 156\n",
      "accuracy 0.8766519823788547 random state 157\n",
      "accuracy 0.801762114537445 random state 158\n",
      "accuracy 0.8546255506607929 random state 159\n",
      "accuracy 0.8458149779735683 random state 160\n",
      "accuracy 0.8722466960352423 random state 161\n",
      "accuracy 0.8370044052863436 random state 162\n",
      "accuracy 0.8678414096916299 random state 163\n",
      "accuracy 0.8590308370044053 random state 164\n",
      "accuracy 0.8370044052863436 random state 165\n",
      "accuracy 0.8458149779735683 random state 166\n",
      "accuracy 0.8678414096916299 random state 167\n",
      "accuracy 0.8237885462555066 random state 168\n",
      "accuracy 0.8370044052863436 random state 169\n",
      "accuracy 0.8590308370044053 random state 170\n",
      "accuracy 0.8942731277533039 random state 171\n",
      "accuracy 0.8590308370044053 random state 172\n",
      "accuracy 0.8766519823788547 random state 173\n",
      "accuracy 0.8414096916299559 random state 174\n",
      "accuracy 0.8722466960352423 random state 175\n",
      "accuracy 0.8678414096916299 random state 176\n",
      "accuracy 0.8502202643171806 random state 177\n",
      "accuracy 0.8325991189427313 random state 178\n",
      "accuracy 0.8193832599118943 random state 179\n",
      "accuracy 0.8149779735682819 random state 180\n",
      "accuracy 0.8370044052863436 random state 181\n",
      "accuracy 0.8590308370044053 random state 182\n",
      "accuracy 0.9118942731277533 random state 183\n",
      "accuracy 0.9118942731277533 random state 183\n",
      "accuracy 0.8458149779735683 random state 184\n",
      "accuracy 0.8458149779735683 random state 185\n",
      "accuracy 0.8854625550660793 random state 186\n",
      "accuracy 0.8414096916299559 random state 187\n",
      "accuracy 0.8722466960352423 random state 188\n",
      "accuracy 0.8502202643171806 random state 189\n",
      "accuracy 0.8502202643171806 random state 190\n",
      "accuracy 0.8942731277533039 random state 191\n",
      "accuracy 0.8590308370044053 random state 192\n",
      "accuracy 0.8546255506607929 random state 193\n",
      "accuracy 0.9074889867841409 random state 194\n",
      "accuracy 0.8370044052863436 random state 195\n",
      "accuracy 0.8766519823788547 random state 196\n",
      "accuracy 0.8502202643171806 random state 197\n",
      "accuracy 0.8458149779735683 random state 198\n",
      "accuracy 0.8722466960352423 random state 199\n"
     ]
    }
   ],
   "source": [
    "maxAccu=0\n",
    "maxRS=0\n",
    "\n",
    "for i in range(1,200):\n",
    "    x_train,x_test,y_train,y_test =train_test_split(x_scalar,y ,test_size= 0.25, random_state =i)\n",
    "    rfc =RandomForestClassifier()\n",
    "    rfc.fit(x_train,y_train)\n",
    "    y_pred =rfc.predict(x_test)\n",
    "    acc=accuracy_score(y_test,y_pred)\n",
    "    print('accuracy',acc,'random state',i)\n",
    "    \n",
    "    if acc > maxAccu:\n",
    "        maxAccu = acc\n",
    "        maxRS = i\n",
    "        print('accuracy', maxAccu, 'random state',i)"
   ]
  },
  {
   "cell_type": "code",
   "execution_count": 66,
   "id": "a4da35dc",
   "metadata": {},
   "outputs": [],
   "source": [
    "x_train,x_test,y_train,y_test =train_test_split(x_scalar,y ,test_size= 0.25, random_state =54)"
   ]
  },
  {
   "cell_type": "code",
   "execution_count": 67,
   "id": "09e57927",
   "metadata": {},
   "outputs": [],
   "source": [
    "lr =LogisticRegression()\n",
    "lr.fit(x_train,y_train)\n",
    "y_pred =lr.predict(x_test)"
   ]
  },
  {
   "cell_type": "code",
   "execution_count": 68,
   "id": "c808d243",
   "metadata": {},
   "outputs": [
    {
     "name": "stdout",
     "output_type": "stream",
     "text": [
      "accuracy rf normal: 0.788546255506608\n",
      "\n",
      " confusion matrix \n",
      " [[ 6  8  0  0  0  0  0  1]\n",
      " [ 3 49  0  7  0  0  0  0]\n",
      " [ 2  2  1 10  0  0  0  0]\n",
      " [ 0  9  0 49  0  0  0  0]\n",
      " [ 0  2  0  1  0  0  0  0]\n",
      " [ 0  1  0  2  0  0  0  0]\n",
      " [ 0  0  0  0  0  0 31  0]\n",
      " [ 0  0  0  0  0  0  0 43]]\n",
      "\n",
      " report :               precision    recall  f1-score   support\n",
      "\n",
      "           0       0.55      0.40      0.46        15\n",
      "           1       0.69      0.83      0.75        59\n",
      "           2       1.00      0.07      0.12        15\n",
      "           3       0.71      0.84      0.77        58\n",
      "           4       0.00      0.00      0.00         3\n",
      "           5       0.00      0.00      0.00         3\n",
      "           6       1.00      1.00      1.00        31\n",
      "           7       0.98      1.00      0.99        43\n",
      "\n",
      "    accuracy                           0.79       227\n",
      "   macro avg       0.62      0.52      0.51       227\n",
      "weighted avg       0.78      0.79      0.76       227\n",
      "\n"
     ]
    }
   ],
   "source": [
    "print(\"accuracy rf normal:\",accuracy_score(y_test,y_pred))\n",
    "\n",
    "print(\"\\n\",\"confusion matrix\",\"\\n\",confusion_matrix(y_test,y_pred))\n",
    "\n",
    "print(\"\\n\",\"report :\",classification_report(y_test,y_pred))"
   ]
  },
  {
   "cell_type": "code",
   "execution_count": 69,
   "id": "dedd7e02",
   "metadata": {},
   "outputs": [
    {
     "name": "stdout",
     "output_type": "stream",
     "text": [
      "Cross Validation score 0.775122263623661\n"
     ]
    }
   ],
   "source": [
    "scr = cross_val_score(lr,x_scalar,y, cv=8)\n",
    "print(\"Cross Validation score\",scr.mean())"
   ]
  },
  {
   "cell_type": "code",
   "execution_count": 70,
   "id": "97403633",
   "metadata": {},
   "outputs": [],
   "source": [
    "# KNN Classifier\n",
    "knn =KNeighborsClassifier()\n",
    "knn.fit(x_train,y_train)\n",
    "y_pred =knn.predict(x_test)"
   ]
  },
  {
   "cell_type": "code",
   "execution_count": 71,
   "id": "af979521",
   "metadata": {},
   "outputs": [
    {
     "name": "stdout",
     "output_type": "stream",
     "text": [
      "accuracy rf normal: 0.7929515418502202\n",
      "\n",
      " confusion matrix \n",
      " [[ 9  6  0  0  0  0  0  0]\n",
      " [ 4 51  1  3  0  0  0  0]\n",
      " [ 1  6  5  3  0  0  0  0]\n",
      " [ 0 11  4 43  0  0  0  0]\n",
      " [ 0  1  0  1  0  0  0  1]\n",
      " [ 0  1  1  1  0  0  0  0]\n",
      " [ 0  0  0  0  0  0 29  2]\n",
      " [ 0  0  0  0  0  0  0 43]]\n",
      "\n",
      " report :               precision    recall  f1-score   support\n",
      "\n",
      "           0       0.64      0.60      0.62        15\n",
      "           1       0.67      0.86      0.76        59\n",
      "           2       0.45      0.33      0.38        15\n",
      "           3       0.84      0.74      0.79        58\n",
      "           4       0.00      0.00      0.00         3\n",
      "           5       0.00      0.00      0.00         3\n",
      "           6       1.00      0.94      0.97        31\n",
      "           7       0.93      1.00      0.97        43\n",
      "\n",
      "    accuracy                           0.79       227\n",
      "   macro avg       0.57      0.56      0.56       227\n",
      "weighted avg       0.78      0.79      0.78       227\n",
      "\n"
     ]
    }
   ],
   "source": [
    "print(\"accuracy rf normal:\",accuracy_score(y_test,y_pred))\n",
    "\n",
    "print(\"\\n\",\"confusion matrix\",\"\\n\",confusion_matrix(y_test,y_pred))\n",
    "\n",
    "print(\"\\n\",\"report :\",classification_report(y_test,y_pred))"
   ]
  },
  {
   "cell_type": "code",
   "execution_count": 72,
   "id": "e0b6d9e8",
   "metadata": {},
   "outputs": [
    {
     "name": "stdout",
     "output_type": "stream",
     "text": [
      "Cross Validation score 0.7795082285359416\n"
     ]
    }
   ],
   "source": [
    "scr = cross_val_score(knn,x_scalar,y, cv=8)\n",
    "print(\"Cross Validation score\",scr.mean())"
   ]
  },
  {
   "cell_type": "code",
   "execution_count": 73,
   "id": "a749ca8e",
   "metadata": {},
   "outputs": [],
   "source": [
    "# Random Forest Classifier\n",
    "rf =RandomForestClassifier()\n",
    "rf.fit(x_train,y_train)\n",
    "y_pred =rf.predict(x_test)"
   ]
  },
  {
   "cell_type": "code",
   "execution_count": 74,
   "id": "5973f03c",
   "metadata": {},
   "outputs": [
    {
     "name": "stdout",
     "output_type": "stream",
     "text": [
      "accuracy rf normal: 0.8986784140969163\n",
      "\n",
      " confusion matrix \n",
      " [[11  4  0  0  0  0  0  0]\n",
      " [ 1 54  0  3  0  1  0  0]\n",
      " [ 1  4  8  2  0  0  0  0]\n",
      " [ 0  3  0 55  0  0  0  0]\n",
      " [ 0  1  0  1  0  0  0  1]\n",
      " [ 0  0  1  0  0  2  0  0]\n",
      " [ 0  0  0  0  0  0 31  0]\n",
      " [ 0  0  0  0  0  0  0 43]]\n",
      "\n",
      " report :               precision    recall  f1-score   support\n",
      "\n",
      "           0       0.85      0.73      0.79        15\n",
      "           1       0.82      0.92      0.86        59\n",
      "           2       0.89      0.53      0.67        15\n",
      "           3       0.90      0.95      0.92        58\n",
      "           4       0.00      0.00      0.00         3\n",
      "           5       0.67      0.67      0.67         3\n",
      "           6       1.00      1.00      1.00        31\n",
      "           7       0.98      1.00      0.99        43\n",
      "\n",
      "    accuracy                           0.90       227\n",
      "   macro avg       0.76      0.72      0.74       227\n",
      "weighted avg       0.89      0.90      0.89       227\n",
      "\n"
     ]
    }
   ],
   "source": [
    "print(\"accuracy rf normal:\",accuracy_score(y_test,y_pred))\n",
    "\n",
    "print(\"\\n\",\"confusion matrix\",\"\\n\",confusion_matrix(y_test,y_pred))\n",
    "\n",
    "print(\"\\n\",\"report :\",classification_report(y_test,y_pred))"
   ]
  },
  {
   "cell_type": "code",
   "execution_count": 75,
   "id": "ffb3eb8d",
   "metadata": {},
   "outputs": [
    {
     "name": "stdout",
     "output_type": "stream",
     "text": [
      "Cross Validation score 0.8610173109765564\n"
     ]
    }
   ],
   "source": [
    "scr = cross_val_score(rf,x_scalar,y, cv=8)\n",
    "print(\"Cross Validation score\",scr.mean())"
   ]
  },
  {
   "cell_type": "code",
   "execution_count": 76,
   "id": "8c906c69",
   "metadata": {},
   "outputs": [],
   "source": [
    "# Decision Tree Classifier\n",
    "dtc =DecisionTreeClassifier()\n",
    "dtc.fit(x_train,y_train)\n",
    "y_pred =dtc.predict(x_test)"
   ]
  },
  {
   "cell_type": "code",
   "execution_count": 77,
   "id": "58c1b9e6",
   "metadata": {},
   "outputs": [
    {
     "name": "stdout",
     "output_type": "stream",
     "text": [
      "accuracy rf normal: 0.8061674008810573\n",
      "\n",
      " confusion matrix \n",
      " [[11  4  0  0  0  0  0  0]\n",
      " [ 6 48  0  3  1  1  0  0]\n",
      " [ 0  5  2  6  0  2  0  0]\n",
      " [ 1  7  2 47  0  1  0  0]\n",
      " [ 0  1  1  0  0  0  0  1]\n",
      " [ 0  0  1  1  0  1  0  0]\n",
      " [ 0  0  0  0  0  0 31  0]\n",
      " [ 0  0  0  0  0  0  0 43]]\n",
      "\n",
      " report :               precision    recall  f1-score   support\n",
      "\n",
      "           0       0.61      0.73      0.67        15\n",
      "           1       0.74      0.81      0.77        59\n",
      "           2       0.33      0.13      0.19        15\n",
      "           3       0.82      0.81      0.82        58\n",
      "           4       0.00      0.00      0.00         3\n",
      "           5       0.20      0.33      0.25         3\n",
      "           6       1.00      1.00      1.00        31\n",
      "           7       0.98      1.00      0.99        43\n",
      "\n",
      "    accuracy                           0.81       227\n",
      "   macro avg       0.59      0.60      0.59       227\n",
      "weighted avg       0.79      0.81      0.79       227\n",
      "\n"
     ]
    }
   ],
   "source": [
    "print(\"accuracy rf normal:\",accuracy_score(y_test,y_pred))\n",
    "\n",
    "print(\"\\n\",\"confusion matrix\",\"\\n\",confusion_matrix(y_test,y_pred))\n",
    "\n",
    "print(\"\\n\",\"report :\",classification_report(y_test,y_pred))"
   ]
  },
  {
   "cell_type": "code",
   "execution_count": 78,
   "id": "b87d8476",
   "metadata": {},
   "outputs": [
    {
     "name": "stdout",
     "output_type": "stream",
     "text": [
      "Cross Validation score 0.8169150752988666\n"
     ]
    }
   ],
   "source": [
    "scr = cross_val_score(dtc,x_scalar,y, cv=8)\n",
    "print(\"Cross Validation score\",scr.mean())"
   ]
  },
  {
   "cell_type": "markdown",
   "id": "d93711ce",
   "metadata": {},
   "source": [
    "## Hyperparameter Tuning"
   ]
  },
  {
   "cell_type": "code",
   "execution_count": 79,
   "id": "7bcd3dc3",
   "metadata": {},
   "outputs": [],
   "source": [
    "rfc = RandomForestClassifier()"
   ]
  },
  {
   "cell_type": "code",
   "execution_count": 101,
   "id": "8d3945de",
   "metadata": {},
   "outputs": [],
   "source": [
    "params ={'n_estimators':[10,15],\n",
    "         'criterion':['entropy','gini'],\n",
    "         'max_depth':[8,15],\n",
    "          'min_samples_split':[2,11],\n",
    "           'min_samples_leaf':[2,10]}"
   ]
  },
  {
   "cell_type": "code",
   "execution_count": 102,
   "id": "76cf631a",
   "metadata": {},
   "outputs": [],
   "source": [
    "grd =GridSearchCV(rfc,param_grid=params)"
   ]
  },
  {
   "cell_type": "code",
   "execution_count": 103,
   "id": "2c4ab50b",
   "metadata": {},
   "outputs": [
    {
     "name": "stdout",
     "output_type": "stream",
     "text": [
      "best_params =  {'criterion': 'gini', 'max_depth': 15, 'min_samples_leaf': 2, 'min_samples_split': 2, 'n_estimators': 15}\n"
     ]
    }
   ],
   "source": [
    "grd.fit(x_train,y_train)\n",
    "print('best_params = ',grd.best_params_)"
   ]
  },
  {
   "cell_type": "code",
   "execution_count": 104,
   "id": "1a12611c",
   "metadata": {},
   "outputs": [],
   "source": [
    "rfc =grd.best_estimator_ "
   ]
  },
  {
   "cell_type": "code",
   "execution_count": 105,
   "id": "2b44a58e",
   "metadata": {},
   "outputs": [
    {
     "data": {
      "text/plain": [
       "RandomForestClassifier(max_depth=15, min_samples_leaf=2, n_estimators=15)"
      ]
     },
     "execution_count": 105,
     "metadata": {},
     "output_type": "execute_result"
    }
   ],
   "source": [
    "rfc.fit(x_train,y_train)"
   ]
  },
  {
   "cell_type": "code",
   "execution_count": 106,
   "id": "e5933dbb",
   "metadata": {},
   "outputs": [],
   "source": [
    "y_pred =rfc.predict(x_test)"
   ]
  },
  {
   "cell_type": "code",
   "execution_count": 107,
   "id": "5eea1d76",
   "metadata": {},
   "outputs": [
    {
     "name": "stdout",
     "output_type": "stream",
     "text": [
      "accuracy rf normal: 0.8854625550660793\n",
      "\n",
      " confusion matrix \n",
      " [[12  3  0  0  0  0  0  0]\n",
      " [ 1 53  1  3  0  1  0  0]\n",
      " [ 1  5  7  2  0  0  0  0]\n",
      " [ 0  5  0 53  0  0  0  0]\n",
      " [ 0  1  0  1  0  0  0  1]\n",
      " [ 0  0  0  1  0  2  0  0]\n",
      " [ 0  0  0  0  0  0 31  0]\n",
      " [ 0  0  0  0  0  0  0 43]]\n",
      "\n",
      " report :               precision    recall  f1-score   support\n",
      "\n",
      "           0       0.86      0.80      0.83        15\n",
      "           1       0.79      0.90      0.84        59\n",
      "           2       0.88      0.47      0.61        15\n",
      "           3       0.88      0.91      0.90        58\n",
      "           4       0.00      0.00      0.00         3\n",
      "           5       0.67      0.67      0.67         3\n",
      "           6       1.00      1.00      1.00        31\n",
      "           7       0.98      1.00      0.99        43\n",
      "\n",
      "    accuracy                           0.89       227\n",
      "   macro avg       0.76      0.72      0.73       227\n",
      "weighted avg       0.88      0.89      0.88       227\n",
      "\n"
     ]
    }
   ],
   "source": [
    "print(\"accuracy rf normal:\",accuracy_score(y_test,y_pred))\n",
    "\n",
    "print(\"\\n\",\"confusion matrix\",\"\\n\",confusion_matrix(y_test,y_pred))\n",
    "\n",
    "print(\"\\n\",\"report :\",classification_report(y_test,y_pred))"
   ]
  },
  {
   "cell_type": "code",
   "execution_count": 108,
   "id": "198f200d",
   "metadata": {},
   "outputs": [
    {
     "name": "stdout",
     "output_type": "stream",
     "text": [
      "Cross Validation score 0.8511391864617295\n"
     ]
    }
   ],
   "source": [
    "scr = cross_val_score(rfc,x_scalar,y, cv=8)\n",
    "print(\"Cross Validation score\",scr.mean())"
   ]
  },
  {
   "cell_type": "code",
   "execution_count": null,
   "id": "31a42085",
   "metadata": {},
   "outputs": [],
   "source": []
  },
  {
   "cell_type": "markdown",
   "id": "fc6fa0d2",
   "metadata": {},
   "source": [
    "# 2 Prediction"
   ]
  },
  {
   "cell_type": "code",
   "execution_count": 116,
   "id": "d44f30d0",
   "metadata": {},
   "outputs": [],
   "source": [
    "x =data.drop(['capacity_mw'], axis =1)\n",
    "y =data['capacity_mw']"
   ]
  },
  {
   "cell_type": "code",
   "execution_count": 117,
   "id": "c18cbb41",
   "metadata": {},
   "outputs": [
    {
     "data": {
      "text/plain": [
       "array([[ 0.        ,  0.        ,  0.77913689, ..., -1.04183792,\n",
       "        -1.15655906,  0.        ],\n",
       "       [ 0.        ,  0.        ,  0.2520737 , ...,  0.42092832,\n",
       "        -1.15655906,  0.        ],\n",
       "       [ 0.        ,  0.        ,  1.52771939, ...,  0.42092832,\n",
       "        -1.15655906,  0.        ],\n",
       "       ...,\n",
       "       [ 0.        ,  0.        ,  1.67285273, ...,  0.42092832,\n",
       "        -1.15655906,  0.        ],\n",
       "       [ 0.        ,  0.        ,  0.32845967, ...,  0.42092832,\n",
       "        -1.15655906,  0.        ],\n",
       "       [ 0.        ,  0.        ,  1.61556326, ...,  0.42092832,\n",
       "        -1.15655906,  0.        ]])"
      ]
     },
     "execution_count": 117,
     "metadata": {},
     "output_type": "execute_result"
    }
   ],
   "source": [
    "scalar = StandardScaler()\n",
    "scalar.fit_transform(x)"
   ]
  },
  {
   "cell_type": "code",
   "execution_count": 118,
   "id": "e564e44b",
   "metadata": {},
   "outputs": [],
   "source": [
    "x_train,x_test,y_train,y_test = train_test_split(x,y, test_size=0.2 ,random_state=5)"
   ]
  },
  {
   "cell_type": "code",
   "execution_count": 119,
   "id": "8cd0977d",
   "metadata": {},
   "outputs": [],
   "source": [
    "# LinearRegression\n",
    "\n",
    "lr = LinearRegression()\n",
    "\n",
    "lr.fit(x_train, y_train)\n",
    "y_predict = lr.predict(x_test)"
   ]
  },
  {
   "cell_type": "code",
   "execution_count": 120,
   "id": "9ab8c553",
   "metadata": {},
   "outputs": [
    {
     "data": {
      "text/plain": [
       "0.7250115587993653"
      ]
     },
     "execution_count": 120,
     "metadata": {},
     "output_type": "execute_result"
    }
   ],
   "source": [
    "lr.score(x_test,y_test)"
   ]
  },
  {
   "cell_type": "code",
   "execution_count": 123,
   "id": "0fb208f4",
   "metadata": {},
   "outputs": [
    {
     "name": "stdout",
     "output_type": "stream",
     "text": [
      " MAE  : 185.7676658811557\n",
      " MSE  : 107573.9245575761\n",
      " RMSE : 327.9846407342516\n"
     ]
    }
   ],
   "source": [
    "print(\" MAE  :\",metrics.mean_absolute_error(y_test,y_predict))\n",
    "print(\" MSE  :\",metrics.mean_squared_error(y_test,y_predict))\n",
    "print(\" RMSE :\",np.sqrt(metrics.mean_squared_error(y_test,y_predict)))"
   ]
  },
  {
   "cell_type": "code",
   "execution_count": 124,
   "id": "ff464eac",
   "metadata": {},
   "outputs": [
    {
     "data": {
      "text/plain": [
       "0.7250115587993653"
      ]
     },
     "execution_count": 124,
     "metadata": {},
     "output_type": "execute_result"
    }
   ],
   "source": [
    "metrics.r2_score(y_test,y_predict)"
   ]
  },
  {
   "cell_type": "code",
   "execution_count": 125,
   "id": "8fda66e4",
   "metadata": {},
   "outputs": [],
   "source": [
    "# DecisionTree\n",
    "\n",
    "dt = DecisionTreeRegressor()\n",
    "\n",
    "dt.fit(x_train, y_train)\n",
    "y_predict = dt.predict(x_test)"
   ]
  },
  {
   "cell_type": "code",
   "execution_count": 126,
   "id": "3a94206d",
   "metadata": {},
   "outputs": [
    {
     "data": {
      "text/plain": [
       "0.7084261761661496"
      ]
     },
     "execution_count": 126,
     "metadata": {},
     "output_type": "execute_result"
    }
   ],
   "source": [
    "dt.score(x_test,y_test)"
   ]
  },
  {
   "cell_type": "code",
   "execution_count": 127,
   "id": "4a6332d3",
   "metadata": {},
   "outputs": [
    {
     "name": "stdout",
     "output_type": "stream",
     "text": [
      " MAE  : 168.71407692307693\n",
      " MSE  : 114062.03253896702\n",
      " RMSE : 337.73071009158616\n"
     ]
    }
   ],
   "source": [
    "print(\" MAE  :\",metrics.mean_absolute_error(y_test,y_predict))\n",
    "print(\" MSE  :\",metrics.mean_squared_error(y_test,y_predict))\n",
    "print(\" RMSE :\",np.sqrt(metrics.mean_squared_error(y_test,y_predict)))"
   ]
  },
  {
   "cell_type": "code",
   "execution_count": 128,
   "id": "b9ea789c",
   "metadata": {},
   "outputs": [
    {
     "data": {
      "text/plain": [
       "0.7084261761661496"
      ]
     },
     "execution_count": 128,
     "metadata": {},
     "output_type": "execute_result"
    }
   ],
   "source": [
    "metrics.r2_score(y_test,y_predict)"
   ]
  },
  {
   "cell_type": "code",
   "execution_count": 129,
   "id": "b9576d86",
   "metadata": {},
   "outputs": [],
   "source": [
    "# RandomForest\n",
    "\n",
    "rf = RandomForestRegressor()\n",
    "\n",
    "rf.fit(x_train, y_train)\n",
    "y_predict = rf.predict(x_test)"
   ]
  },
  {
   "cell_type": "code",
   "execution_count": 130,
   "id": "78ef5176",
   "metadata": {},
   "outputs": [
    {
     "data": {
      "text/plain": [
       "0.8166735120545306"
      ]
     },
     "execution_count": 130,
     "metadata": {},
     "output_type": "execute_result"
    }
   ],
   "source": [
    "rf.score(x_test,y_test)"
   ]
  },
  {
   "cell_type": "code",
   "execution_count": 131,
   "id": "32802332",
   "metadata": {},
   "outputs": [
    {
     "name": "stdout",
     "output_type": "stream",
     "text": [
      " MAE  : 138.6382717032967\n",
      " MSE  : 71716.28631933128\n",
      " RMSE : 267.7989662402215\n"
     ]
    }
   ],
   "source": [
    "print(\" MAE  :\",metrics.mean_absolute_error(y_test,y_predict))\n",
    "print(\" MSE  :\",metrics.mean_squared_error(y_test,y_predict))\n",
    "print(\" RMSE :\",np.sqrt(metrics.mean_squared_error(y_test,y_predict)))"
   ]
  },
  {
   "cell_type": "code",
   "execution_count": 132,
   "id": "761faa67",
   "metadata": {},
   "outputs": [
    {
     "data": {
      "text/plain": [
       "0.8166735120545306"
      ]
     },
     "execution_count": 132,
     "metadata": {},
     "output_type": "execute_result"
    }
   ],
   "source": [
    "metrics.r2_score(y_test,y_predict)"
   ]
  },
  {
   "cell_type": "code",
   "execution_count": 133,
   "id": "4520b507",
   "metadata": {},
   "outputs": [],
   "source": [
    "# KNeighbors\n",
    "\n",
    "knn = KNeighborsRegressor()\n",
    "\n",
    "knn.fit(x_train, y_train)\n",
    "y_predict = knn.predict(x_test)"
   ]
  },
  {
   "cell_type": "code",
   "execution_count": 134,
   "id": "5cfcd8f9",
   "metadata": {},
   "outputs": [
    {
     "data": {
      "text/plain": [
       "0.7158292349128141"
      ]
     },
     "execution_count": 134,
     "metadata": {},
     "output_type": "execute_result"
    }
   ],
   "source": [
    "knn.score(x_test,y_test)"
   ]
  },
  {
   "cell_type": "code",
   "execution_count": 135,
   "id": "85a41c34",
   "metadata": {},
   "outputs": [
    {
     "name": "stdout",
     "output_type": "stream",
     "text": [
      " MAE  : 167.92893736263738\n",
      " MSE  : 111165.99778335361\n",
      " RMSE : 333.4156531768621\n"
     ]
    }
   ],
   "source": [
    "print(\" MAE  :\",metrics.mean_absolute_error(y_test,y_predict))\n",
    "print(\" MSE  :\",metrics.mean_squared_error(y_test,y_predict))\n",
    "print(\" RMSE :\",np.sqrt(metrics.mean_squared_error(y_test,y_predict)))"
   ]
  },
  {
   "cell_type": "code",
   "execution_count": 136,
   "id": "2f5c26fd",
   "metadata": {},
   "outputs": [
    {
     "data": {
      "text/plain": [
       "0.7158292349128141"
      ]
     },
     "execution_count": 136,
     "metadata": {},
     "output_type": "execute_result"
    }
   ],
   "source": [
    "metrics.r2_score(y_test,y_predict)"
   ]
  },
  {
   "cell_type": "code",
   "execution_count": null,
   "id": "bac0e3ac",
   "metadata": {},
   "outputs": [],
   "source": []
  },
  {
   "cell_type": "code",
   "execution_count": null,
   "id": "1f51e057",
   "metadata": {},
   "outputs": [],
   "source": []
  },
  {
   "cell_type": "code",
   "execution_count": null,
   "id": "20724f02",
   "metadata": {},
   "outputs": [],
   "source": []
  },
  {
   "cell_type": "code",
   "execution_count": null,
   "id": "f04b61b2",
   "metadata": {},
   "outputs": [],
   "source": []
  },
  {
   "cell_type": "code",
   "execution_count": null,
   "id": "2d2c76ff",
   "metadata": {},
   "outputs": [],
   "source": []
  }
 ],
 "metadata": {
  "kernelspec": {
   "display_name": "Python 3 (ipykernel)",
   "language": "python",
   "name": "python3"
  },
  "language_info": {
   "codemirror_mode": {
    "name": "ipython",
    "version": 3
   },
   "file_extension": ".py",
   "mimetype": "text/x-python",
   "name": "python",
   "nbconvert_exporter": "python",
   "pygments_lexer": "ipython3",
   "version": "3.9.13"
  }
 },
 "nbformat": 4,
 "nbformat_minor": 5
}
